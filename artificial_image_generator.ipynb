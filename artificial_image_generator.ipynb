{
 "cells": [
  {
   "cell_type": "markdown",
   "metadata": {
    "colab": {},
    "colab_type": "code",
    "id": "gHa5o1g6lkVA"
   },
   "source": [
    "### Code for artificial image generator ###\n",
    "\n",
    "#### 1. Load all images from no_mask_real folder\n",
    "#### 2. Create array of images and labels\n",
    "#### 3. Load and modify MobileNet Model\n",
    "#### 4. Re-train the model on training data"
   ]
  },
  {
   "cell_type": "code",
   "execution_count": 1,
   "metadata": {
    "colab": {},
    "colab_type": "code",
    "id": "SIxRAk1hSmlr"
   },
   "outputs": [],
   "source": [
    "\n",
    "# Import Required Libraries\n",
    "\n",
    "!pip3 install tqdm\n",
    "import cv2\n",
    "import os\n",
    "import numpy as np\n",
    "import matplotlib.pyplot as plt\n",
    "from PIL import Image\n",
    "import face_recognition\n",
    "import tqdm \n",
    "from tqdm import notebook\n",
    "from PIL import Image, ImageOps\n",
    "import random\n",
    "from random import sample"
   ]
  },
  {
   "cell_type": "markdown",
   "metadata": {
    "colab_type": "text",
    "id": "4QG5TqlkCV80"
   },
   "source": [
    "## MASK FACE ##"
   ]
  },
  {
   "cell_type": "code",
   "execution_count": null,
   "metadata": {
    "colab": {},
    "colab_type": "code",
    "id": "fIG3GVZ8MdUh"
   },
   "outputs": [],
   "source": [
    "# Mathematical Function to Return Perpendicular Distance of a Point from a Line\n",
    "\n",
    "def get_distance_from_point_to_line(point, line_point1, line_point2):\n",
    "\n",
    "        (p,q) = point\n",
    "        (x1,y1) = line_point1\n",
    "        (x2,y2) = line_point2\n",
    "\n",
    "        A = (y2-y1)\n",
    "        B = (x1-x2)\n",
    "        \n",
    "        distance = np.abs( A*p + B*q  - A*x1 - B*y1 ) / np.sqrt( A**2 + B**2 )\n",
    "\n",
    "        return int(distance)\n",
    "\n",
    "# Mathematical Function to Return Rotated Co-ordinates of a Point around a Reference Point (Origin)\n",
    "\n",
    "def get_point_rotation(point,origin,angle):\n",
    "\n",
    "        (p,q) = point\n",
    "        (x,y) = origin\n",
    "\n",
    "        rotated_p = x + np.cos(angle)*(p-x) - np.sin(angle)*(q-y)\n",
    "        rotated_q = y + np.sin(angle)*(p-x) + np.cos(angle)*(q-y)\n",
    "\n",
    "        return [int(rotated_p),int(rotated_q)]"
   ]
  },
  {
   "cell_type": "code",
   "execution_count": null,
   "metadata": {
    "colab": {},
    "colab_type": "code",
    "id": "uVOnpVQHMg2K"
   },
   "outputs": [],
   "source": [
    "# Function to Wear Mask to the Human Faces found in a given Input Image \n",
    "\n",
    "def Mask_Faces (image_path,mask_image_path):\n",
    "\n",
    "  masked_faces_image = Image.open(image_path)\n",
    "\n",
    "  image = face_recognition.load_image_file(image_path)\n",
    "  mask_img = Image.open(mask_image_path)\n",
    "\n",
    "  # Get Face Landmark Co-ordinates\n",
    "  face_landmarks = face_recognition.face_landmarks(image)\n",
    "\n",
    "  # Return if no Faces found or Required Landmarks not found\n",
    "  if len(face_landmarks)==0:\n",
    "    # print(\"No Faces found in \"+image_path.split('/')[-1]+\" !\")\n",
    "    return None\n",
    "\n",
    "  for face in face_landmarks:\n",
    "\n",
    "    if 'nose_bridge' not in face or 'chin' not in face :\n",
    "      continue\n",
    "\n",
    "    # Nose Point (Top of Mask)\n",
    "    nose_bridge = face['nose_bridge']\n",
    "    nose_point = ((np.array(nose_bridge[0])+np.array(nose_bridge[1]))/2).astype(np.uint64)\n",
    "\n",
    "    chin = face['chin']\n",
    "    chin_len = len(chin)\n",
    "\n",
    "    # Chin Points (Bottom, Left and Right of Mask)\n",
    "    chin_bottom_point = np.array(chin[chin_len // 2])       \n",
    "    chin_left_point = np.array(chin[chin_len // 8])        \n",
    "    chin_right_point = np.array(chin[chin_len * 7 // 8])\n",
    "\n",
    "    # Dimensions for the Mask\n",
    "    width = mask_img.width\n",
    "    height = mask_img.height        \n",
    "    width_ratio = 1.15   \n",
    "    new_mask_height = int(np.linalg.norm(nose_point - chin_bottom_point))\n",
    "\n",
    "    # Prepare Left Half of the Mask with appropriate Size\n",
    "    mask_left_img = mask_img.crop((0, 0, width // 2, height))        \n",
    "    mask_left_width = get_distance_from_point_to_line(chin_left_point, nose_point, chin_bottom_point)        \n",
    "    mask_left_width = int(mask_left_width * width_ratio)        \n",
    "    mask_left_img = mask_left_img.resize((mask_left_width, new_mask_height))\n",
    "        \n",
    "    # Prepare Right Half of the Mask with appropriate Size\n",
    "    mask_right_img = mask_img.crop((width // 2, 0, width, height))        \n",
    "    mask_right_width = get_distance_from_point_to_line(chin_right_point, nose_point, chin_bottom_point)        \n",
    "    mask_right_width = int(mask_right_width * width_ratio)        \n",
    "    mask_right_img = mask_right_img.resize((mask_right_width, new_mask_height))\n",
    "\n",
    "    # Join the 2 Halves to Produce the New Mask Image with the Correct Size\n",
    "    new_mask_size = (mask_left_img.width + mask_right_img.width, new_mask_height)        \n",
    "    new_mask_img = Image.new('RGBA', new_mask_size)        \n",
    "    new_mask_img.paste(mask_left_img, (0, 0), mask_left_img)        \n",
    "    new_mask_img.paste(mask_right_img, (mask_left_img.width, 0), mask_right_img)\n",
    "\n",
    "    # Calculate Angle of Rotation (Tilted Face) and Rotate the Mask\n",
    "    angle_radian = np.arctan2(chin_bottom_point[1] - nose_point[1], chin_bottom_point[0] - nose_point[0])\n",
    "    rotation_angle_radian = (np.pi/2) - angle_radian\n",
    "    rotation_angle_degree = (rotation_angle_radian*180)/np.pi\n",
    "    rotation_center = (mask_left_width,new_mask_height//2)\n",
    "    rotated_mask_img = new_mask_img.rotate(rotation_angle_degree,expand=True,center = rotation_center)\n",
    "\n",
    "    # Calcualate Co-ordinates for Pasting the Mask on the Input Image\n",
    "    center_x = (nose_point[0] + chin_bottom_point[0]) // 2        \n",
    "    center_y = (nose_point[1] + chin_bottom_point[1]) // 2\n",
    "\n",
    "    mask_corner_points = [[center_x - mask_left_width, center_y - (new_mask_height//2)],\n",
    "                          [center_x + mask_right_width, center_y - (new_mask_height//2)],\n",
    "                          [center_x + mask_right_width, center_y + (new_mask_height//2)],\n",
    "                          [center_x - mask_left_width, center_y + (new_mask_height//2)]]\n",
    "\n",
    "    # Make Sure Image Dimentions doesn't exceed 99999 \n",
    "    rotated_mask_topleft_corner = np.array([99999,99999]) \n",
    "\n",
    "    for point in mask_corner_points:\n",
    "\n",
    "      rotated_mask_topleft_corner = np.minimum(rotated_mask_topleft_corner,\n",
    "                                    get_point_rotation(point,(center_x,center_y),-rotation_angle_radian))\n",
    "\n",
    "    # Paste the Mask on Image and Return it\n",
    "    masked_faces_image.paste(rotated_mask_img,\n",
    "                            (rotated_mask_topleft_corner[0],rotated_mask_topleft_corner[1]),\n",
    "                             rotated_mask_img)\n",
    "\n",
    "    return masked_faces_image"
   ]
  },
  {
   "cell_type": "code",
   "execution_count": null,
   "metadata": {
    "colab": {},
    "colab_type": "code",
    "id": "PIm2GEh_Z1mF"
   },
   "outputs": [],
   "source": [
    "# Function to Mask Faces present in all Images within a directory\n",
    "\n",
    "def Generate_Masked_Images (images_path,save_path,mask_image_path):\n",
    "\n",
    "  print(\"Augmenting Images, Please Wait !\")\n",
    "\n",
    "  # Loop through all the Files\n",
    "  for file_name in tqdm.notebook.tqdm(os.listdir(images_path)):\n",
    "    \n",
    "   \n",
    "    # Mask and Save in the Specified save_path\n",
    "    try:\n",
    "\n",
    "      masked_face_image = Mask_Faces(os.path.join(images_path,file_name),mask_image_path)\n",
    "      masked_face_image.save(os.path.join(save_path,file_name.split('.')[0]+\"_masked.\"+\n",
    "                                          file_name.split('.')[-1]))\n",
    "    except:\n",
    "      continue\n",
    "\n",
    "  print(\"Done !\")\n"
   ]
  },
  {
   "cell_type": "code",
   "execution_count": null,
   "metadata": {},
   "outputs": [],
   "source": [
    "INPUT_DIR = \"/Users/apple/bhavik/COS80026/Project/Final submission/GitHub/Data/real/no_mask_real\"\n",
    "\n",
    "SAVE_DIR_fabric = \"/Users/apple/bhavik/COS80026/Project/Final submission/GitHub/Data/artificial/fabric\"\n",
    "SAVE_DIR_n95 = \"/Users/apple/bhavik/COS80026/Project/Final submission/GitHub/Data/artificial/n95\"\n",
    "SAVE_DIR_surgical = \"/Users/apple/bhavik/COS80026/Project/Final submission/GitHub/Data/artificial/surgical\"\n",
    "\n",
    "MASK_IMAGE_PATH_fabric = \"/Users/apple/bhavik/COS80026/Project/Final submission/GitHub/Data/mask/fabric.png\"\n",
    "\n",
    "MASK_IMAGE_PATH_surgical = \"/Users/apple/bhavik/COS80026/Project/Final submission/GitHub/Data/mask/surgical.png\"\n",
    "\n",
    "MASK_IMAGE_PATH_n95 = \"/Users/apple/bhavik/COS80026/Project/Final submission/GitHub/Data/mask/n95.png\"\n",
    "\n",
    "Generate_Masked_Images (INPUT_DIR,SAVE_DIR_fabric,MASK_IMAGE_PATH_fabric)\n",
    "Generate_Masked_Images (INPUT_DIR,SAVE_DIR_n95,MASK_IMAGE_PATH_n95)\n",
    "Generate_Masked_Images (INPUT_DIR,SAVE_DIR_surgical,MASK_IMAGE_PATH_surgical)\n"
   ]
  }
 ],
 "metadata": {
  "accelerator": "GPU",
  "colab": {
   "collapsed_sections": [],
   "name": "Data_Augmentation.ipynb",
   "provenance": []
  },
  "kernelspec": {
   "display_name": "Python 3",
   "language": "python",
   "name": "python3"
  },
  "language_info": {
   "codemirror_mode": {
    "name": "ipython",
    "version": 3
   },
   "file_extension": ".py",
   "mimetype": "text/x-python",
   "name": "python",
   "nbconvert_exporter": "python",
   "pygments_lexer": "ipython3",
   "version": "3.7.6"
  }
 },
 "nbformat": 4,
 "nbformat_minor": 1
}
