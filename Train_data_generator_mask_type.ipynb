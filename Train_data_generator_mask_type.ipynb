{
 "cells": [
  {
   "cell_type": "code",
   "execution_count": null,
   "metadata": {
    "colab": {},
    "colab_type": "code",
    "id": "aokSHhLh4I4T"
   },
   "outputs": [],
   "source": [
    "# Install Required Libraries from PyPI\n",
    "\n",
    "import face_detection\n",
    "import os\n",
    "import tqdm \n",
    "import cv2\n",
    "from os import getcwd\n",
    "from os import listdir\n",
    "import imutils\n",
    "import numpy as np\n"
   ]
  },
  {
   "cell_type": "code",
   "execution_count": null,
   "metadata": {
    "colab": {},
    "colab_type": "code",
    "id": "WGwCQt_yPs5b"
   },
   "outputs": [],
   "source": [
    "# Initialize a Face Detector \n",
    "# Confidence Threshold can be Adjusted, Greater values would Detect only Clear Faces\n",
    "\n",
    "detector = face_detection.build_detector(\"DSFDDetector\", confidence_threshold=.5, nms_iou_threshold=.3)"
   ]
  },
  {
   "cell_type": "code",
   "execution_count": null,
   "metadata": {
    "colab": {},
    "colab_type": "code",
    "id": "uTalRyPrNk1w"
   },
   "outputs": [],
   "source": [
    "# Set Path to the Dataset\n",
    "# Faces would be extracted and placed in the specified Directory after Processing\n",
    "\n",
    "Dataset_PATH = \"/Users/apple/bhavik/COS80026/Project/Final submission/GitHub/Data/combined\"\n",
    "Processed_Dataset_PATH = \"/Users/apple/bhavik/COS80026/Project/Final submission/GitHub/Data/dataset_mask_type\"\n"
   ]
  },
  {
   "cell_type": "code",
   "execution_count": null,
   "metadata": {
    "colab": {},
    "colab_type": "code",
    "id": "6ZJlEg8y4Q_2",
    "scrolled": true
   },
   "outputs": [],
   "source": [
    "# Prepare the Data for Training \n",
    "# Extract Faces from the Dataset and Save them in the specified Directory\n",
    "\n",
    "# There should be 2 Sub-Directories corresponding to Masked and Non-Masked Faces\n",
    "paths = [\"fabric\",\"n95\",\"surgical\"]\n",
    "\n",
    "for path in paths:\n",
    "\n",
    "    curr_path = os.path.join(Dataset_PATH,path)\n",
    "    \n",
    "  \n",
    "      # Loop through all Images\n",
    "    for file_name in tqdm.notebook.tqdm(os.listdir(curr_path)):\n",
    "\n",
    "        try:\n",
    "      \n",
    "          image = cv2.imread(os.path.join(curr_path,file_name))\n",
    "            \n",
    "\n",
    "          # Detect Faces, Crop and Save\n",
    "          detections = detector.detect(image[:,:,::-1])\n",
    "        \n",
    "    \n",
    "\n",
    "          for j in range(len(detections)):\n",
    "    \n",
    "            face = image[int(detections[j][1]):int(detections[j][3]),\n",
    "                         int(detections[j][0]):int(detections[j][2])]\n",
    "        \n",
    "            cv2.imwrite(os.path.join(Processed_Dataset_PATH,path)+\"/\"+file_name,face)\n",
    "    \n",
    "        except:\n",
    "          continue"
   ]
  },
  {
   "cell_type": "code",
   "execution_count": null,
   "metadata": {},
   "outputs": [],
   "source": []
  }
 ],
 "metadata": {
  "accelerator": "GPU",
  "colab": {
   "collapsed_sections": [],
   "name": "Face_Mask_Classifier.ipynb",
   "provenance": []
  },
  "kernelspec": {
   "display_name": "Python 3",
   "language": "python",
   "name": "python3"
  },
  "language_info": {
   "codemirror_mode": {
    "name": "ipython",
    "version": 3
   },
   "file_extension": ".py",
   "mimetype": "text/x-python",
   "name": "python",
   "nbconvert_exporter": "python",
   "pygments_lexer": "ipython3",
   "version": "3.7.6"
  }
 },
 "nbformat": 4,
 "nbformat_minor": 1
}
